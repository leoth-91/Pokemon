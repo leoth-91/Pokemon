{
 "cells": [
  {
   "cell_type": "code",
   "execution_count": 7,
   "metadata": {},
   "outputs": [],
   "source": [
    "import numpy as np\n",
    "import matplotlib.pyplot as plt\n",
    "plt.style.use('fivethirtyeight')\n",
    "import pandas as pd"
   ]
  },
  {
   "cell_type": "code",
   "execution_count": 8,
   "metadata": {},
   "outputs": [],
   "source": [
    "path_data = 'data/'"
   ]
  },
  {
   "cell_type": "code",
   "execution_count": 9,
   "metadata": {},
   "outputs": [
    {
     "data": {
      "text/html": [
       "<div>\n",
       "<style scoped>\n",
       "    .dataframe tbody tr th:only-of-type {\n",
       "        vertical-align: middle;\n",
       "    }\n",
       "\n",
       "    .dataframe tbody tr th {\n",
       "        vertical-align: top;\n",
       "    }\n",
       "\n",
       "    .dataframe thead th {\n",
       "        text-align: right;\n",
       "    }\n",
       "</style>\n",
       "<table border=\"1\" class=\"dataframe\">\n",
       "  <thead>\n",
       "    <tr style=\"text-align: right;\">\n",
       "      <th></th>\n",
       "      <th>pid</th>\n",
       "      <th>Name</th>\n",
       "      <th>Class 1</th>\n",
       "      <th>Class 2</th>\n",
       "      <th>HP</th>\n",
       "      <th>Attack</th>\n",
       "      <th>Defense</th>\n",
       "      <th>Sp. Atk</th>\n",
       "      <th>Sp. Def</th>\n",
       "      <th>Speed</th>\n",
       "      <th>Legendary</th>\n",
       "    </tr>\n",
       "  </thead>\n",
       "  <tbody>\n",
       "    <tr>\n",
       "      <th>0</th>\n",
       "      <td>1</td>\n",
       "      <td>Bulbasaur</td>\n",
       "      <td>Grass</td>\n",
       "      <td>Poison</td>\n",
       "      <td>45</td>\n",
       "      <td>49</td>\n",
       "      <td>49</td>\n",
       "      <td>65</td>\n",
       "      <td>65</td>\n",
       "      <td>45</td>\n",
       "      <td>False</td>\n",
       "    </tr>\n",
       "    <tr>\n",
       "      <th>1</th>\n",
       "      <td>2</td>\n",
       "      <td>Ivysaur</td>\n",
       "      <td>Grass</td>\n",
       "      <td>Poison</td>\n",
       "      <td>60</td>\n",
       "      <td>62</td>\n",
       "      <td>63</td>\n",
       "      <td>80</td>\n",
       "      <td>80</td>\n",
       "      <td>60</td>\n",
       "      <td>False</td>\n",
       "    </tr>\n",
       "    <tr>\n",
       "      <th>2</th>\n",
       "      <td>3</td>\n",
       "      <td>Venusaur</td>\n",
       "      <td>Grass</td>\n",
       "      <td>Poison</td>\n",
       "      <td>80</td>\n",
       "      <td>82</td>\n",
       "      <td>83</td>\n",
       "      <td>100</td>\n",
       "      <td>100</td>\n",
       "      <td>80</td>\n",
       "      <td>False</td>\n",
       "    </tr>\n",
       "    <tr>\n",
       "      <th>3</th>\n",
       "      <td>4</td>\n",
       "      <td>Mega Venusaur</td>\n",
       "      <td>Grass</td>\n",
       "      <td>Poison</td>\n",
       "      <td>80</td>\n",
       "      <td>100</td>\n",
       "      <td>123</td>\n",
       "      <td>122</td>\n",
       "      <td>120</td>\n",
       "      <td>80</td>\n",
       "      <td>False</td>\n",
       "    </tr>\n",
       "    <tr>\n",
       "      <th>4</th>\n",
       "      <td>5</td>\n",
       "      <td>Charmander</td>\n",
       "      <td>Fire</td>\n",
       "      <td>NaN</td>\n",
       "      <td>39</td>\n",
       "      <td>52</td>\n",
       "      <td>43</td>\n",
       "      <td>60</td>\n",
       "      <td>50</td>\n",
       "      <td>65</td>\n",
       "      <td>False</td>\n",
       "    </tr>\n",
       "  </tbody>\n",
       "</table>\n",
       "</div>"
      ],
      "text/plain": [
       "   pid           Name Class 1 Class 2  HP  Attack  Defense  Sp. Atk  Sp. Def  \\\n",
       "0    1      Bulbasaur   Grass  Poison  45      49       49       65       65   \n",
       "1    2        Ivysaur   Grass  Poison  60      62       63       80       80   \n",
       "2    3       Venusaur   Grass  Poison  80      82       83      100      100   \n",
       "3    4  Mega Venusaur   Grass  Poison  80     100      123      122      120   \n",
       "4    5     Charmander    Fire     NaN  39      52       43       60       50   \n",
       "\n",
       "   Speed  Legendary  \n",
       "0     45      False  \n",
       "1     60      False  \n",
       "2     80      False  \n",
       "3     80      False  \n",
       "4     65      False  "
      ]
     },
     "execution_count": 9,
     "metadata": {},
     "output_type": "execute_result"
    }
   ],
   "source": [
    "pokemon = pd.read_csv(path_data + 'pokemon.csv')\n",
    "combat = pd.read_csv(path_data + 'combat.csv')\n",
    "pokemon.head()"
   ]
  },
  {
   "cell_type": "code",
   "execution_count": 10,
   "metadata": {},
   "outputs": [
    {
     "data": {
      "text/html": [
       "<div>\n",
       "<style scoped>\n",
       "    .dataframe tbody tr th:only-of-type {\n",
       "        vertical-align: middle;\n",
       "    }\n",
       "\n",
       "    .dataframe tbody tr th {\n",
       "        vertical-align: top;\n",
       "    }\n",
       "\n",
       "    .dataframe thead th {\n",
       "        text-align: right;\n",
       "    }\n",
       "</style>\n",
       "<table border=\"1\" class=\"dataframe\">\n",
       "  <thead>\n",
       "    <tr style=\"text-align: right;\">\n",
       "      <th></th>\n",
       "      <th>First_pokemon</th>\n",
       "      <th>Second_pokemon</th>\n",
       "      <th>Winner</th>\n",
       "    </tr>\n",
       "  </thead>\n",
       "  <tbody>\n",
       "    <tr>\n",
       "      <th>0</th>\n",
       "      <td>266</td>\n",
       "      <td>298</td>\n",
       "      <td>298</td>\n",
       "    </tr>\n",
       "    <tr>\n",
       "      <th>1</th>\n",
       "      <td>702</td>\n",
       "      <td>701</td>\n",
       "      <td>701</td>\n",
       "    </tr>\n",
       "    <tr>\n",
       "      <th>2</th>\n",
       "      <td>191</td>\n",
       "      <td>668</td>\n",
       "      <td>668</td>\n",
       "    </tr>\n",
       "    <tr>\n",
       "      <th>3</th>\n",
       "      <td>237</td>\n",
       "      <td>683</td>\n",
       "      <td>683</td>\n",
       "    </tr>\n",
       "    <tr>\n",
       "      <th>4</th>\n",
       "      <td>151</td>\n",
       "      <td>231</td>\n",
       "      <td>151</td>\n",
       "    </tr>\n",
       "  </tbody>\n",
       "</table>\n",
       "</div>"
      ],
      "text/plain": [
       "   First_pokemon  Second_pokemon  Winner\n",
       "0            266             298     298\n",
       "1            702             701     701\n",
       "2            191             668     668\n",
       "3            237             683     683\n",
       "4            151             231     151"
      ]
     },
     "execution_count": 10,
     "metadata": {},
     "output_type": "execute_result"
    }
   ],
   "source": [
    "combat.head()"
   ]
  },
  {
   "cell_type": "markdown",
   "metadata": {},
   "source": [
    "# Predicting Pokemon battles"
   ]
  },
  {
   "cell_type": "markdown",
   "metadata": {},
   "source": [
    "I want to use the datasets to create a model that predicts the outcome of Pokémon battles based on the contenders features, such as HP, class, Attack etc.\n",
    "\n",
    "For training I will use the combat.csv dataset, a list of 50k Pokémon battles and their outcomes (all by their unique identifier, the PID)."
   ]
  },
  {
   "cell_type": "code",
   "execution_count": null,
   "metadata": {},
   "outputs": [],
   "source": []
  },
  {
   "cell_type": "markdown",
   "metadata": {},
   "source": [
    "## The feature vectors\n",
    "\n",
    "The PID, being nothing more than an identifier, provides no information about a Pokémons abilities. Instead I will feed the model with all the important informations, creating a **feature vector**\n",
    "\n",
    "\n",
    "The feature vector of training data has to contain all features necessary to predict who will win. We'll exclude the following\n",
    "\n",
    " - the PID\n",
    " - the Name\n",
    " - and the legendary status (while legendary Pokémon certainly are strong, the legendary stat *itself* does not change a Pokemons battle performance)\n",
    "\n",
    "To proceed I will\n",
    "\n",
    " 1. encode the categorical features so that they can be put into a vector\n",
    " 2. create a pd.dataframe that contains all the relevant information\n",
    " 3. actually create out feature vector by pairing the information of two Pokemon \n",
    "    and storing them in one vector.\n",
    " 4. take the pairings from 'combat' and add the battle result as label"
   ]
  },
  {
   "cell_type": "code",
   "execution_count": 11,
   "metadata": {},
   "outputs": [],
   "source": [
    "# 1. Encoding categorical features\n",
    "# that is usually done as one-hot-encoding:\n",
    "# for N different features, a N-dimensional vector is created containing zeros and ones\n",
    "# that indicate feature\n",
    "\n",
    "# pandas offers a way to do this: pd.get_dummies\n",
    "class_1 = pd.get_dummies(pokemon['Class 1'], prefix='Class')\n",
    "class_2 = pd.get_dummies(pokemon['Class 2'], prefix='Class')\n",
    "# If a Pokemon does not have a second class, this will simply be encoded by the zero-vector\n",
    "# this should be fine, a class adds strengths and weaknesses in a combat-pairing\n",
    "# and the absence of a second Class simply does not yield any information"
   ]
  },
  {
   "cell_type": "code",
   "execution_count": 12,
   "metadata": {},
   "outputs": [
    {
     "data": {
      "text/html": [
       "<div>\n",
       "<style scoped>\n",
       "    .dataframe tbody tr th:only-of-type {\n",
       "        vertical-align: middle;\n",
       "    }\n",
       "\n",
       "    .dataframe tbody tr th {\n",
       "        vertical-align: top;\n",
       "    }\n",
       "\n",
       "    .dataframe thead th {\n",
       "        text-align: right;\n",
       "    }\n",
       "</style>\n",
       "<table border=\"1\" class=\"dataframe\">\n",
       "  <thead>\n",
       "    <tr style=\"text-align: right;\">\n",
       "      <th></th>\n",
       "      <th>Class_Bug</th>\n",
       "      <th>Class_Dark</th>\n",
       "      <th>Class_Dragon</th>\n",
       "      <th>Class_Electric</th>\n",
       "      <th>Class_Fairy</th>\n",
       "      <th>Class_Fighting</th>\n",
       "      <th>Class_Fire</th>\n",
       "      <th>Class_Flying</th>\n",
       "      <th>Class_Ghost</th>\n",
       "      <th>Class_Grass</th>\n",
       "      <th>Class_Ground</th>\n",
       "      <th>Class_Ice</th>\n",
       "      <th>Class_Normal</th>\n",
       "      <th>Class_Poison</th>\n",
       "      <th>Class_Psychic</th>\n",
       "      <th>Class_Rock</th>\n",
       "      <th>Class_Steel</th>\n",
       "      <th>Class_Water</th>\n",
       "    </tr>\n",
       "  </thead>\n",
       "  <tbody>\n",
       "    <tr>\n",
       "      <th>0</th>\n",
       "      <td>0</td>\n",
       "      <td>0</td>\n",
       "      <td>0</td>\n",
       "      <td>0</td>\n",
       "      <td>0</td>\n",
       "      <td>0</td>\n",
       "      <td>0</td>\n",
       "      <td>0</td>\n",
       "      <td>0</td>\n",
       "      <td>1</td>\n",
       "      <td>0</td>\n",
       "      <td>0</td>\n",
       "      <td>0</td>\n",
       "      <td>1</td>\n",
       "      <td>0</td>\n",
       "      <td>0</td>\n",
       "      <td>0</td>\n",
       "      <td>0</td>\n",
       "    </tr>\n",
       "  </tbody>\n",
       "</table>\n",
       "</div>"
      ],
      "text/plain": [
       "   Class_Bug  Class_Dark  Class_Dragon  Class_Electric  Class_Fairy  \\\n",
       "0          0           0             0               0            0   \n",
       "\n",
       "   Class_Fighting  Class_Fire  Class_Flying  Class_Ghost  Class_Grass  \\\n",
       "0               0           0             0            0            1   \n",
       "\n",
       "   Class_Ground  Class_Ice  Class_Normal  Class_Poison  Class_Psychic  \\\n",
       "0             0          0             0             1              0   \n",
       "\n",
       "   Class_Rock  Class_Steel  Class_Water  \n",
       "0           0            0            0  "
      ]
     },
     "execution_count": 12,
     "metadata": {},
     "output_type": "execute_result"
    }
   ],
   "source": [
    "# defining a pd dataframe containing the desired class-information:\n",
    "\n",
    "# I simply add them! Instead of a one-hot encoding, that would be a one- or two-hot encoding, so to say\n",
    "# The presence of a class matters no matter if it is first or second, \n",
    "# and the absence of a class is simply the absence of information relevant to the task at hand\n",
    "# also: I keep the number of input features smaller, instead of 36, we'll just have 18 that \n",
    "# each correspond to the presence or absence of a Class\n",
    "\n",
    "classes = class_1.add(class_2, fill_value=0)\n",
    "\n",
    "# The first Pokemon in the dataframe (Bulbasaur) incidentally has two Classes: \n",
    "# Grass and Poison\n",
    "classes.loc[[0]]"
   ]
  },
  {
   "cell_type": "code",
   "execution_count": 13,
   "metadata": {},
   "outputs": [
    {
     "data": {
      "text/html": [
       "<div>\n",
       "<style scoped>\n",
       "    .dataframe tbody tr th:only-of-type {\n",
       "        vertical-align: middle;\n",
       "    }\n",
       "\n",
       "    .dataframe tbody tr th {\n",
       "        vertical-align: top;\n",
       "    }\n",
       "\n",
       "    .dataframe thead th {\n",
       "        text-align: right;\n",
       "    }\n",
       "</style>\n",
       "<table border=\"1\" class=\"dataframe\">\n",
       "  <thead>\n",
       "    <tr style=\"text-align: right;\">\n",
       "      <th></th>\n",
       "      <th>Class_Bug</th>\n",
       "      <th>Class_Dark</th>\n",
       "      <th>Class_Dragon</th>\n",
       "      <th>Class_Electric</th>\n",
       "      <th>Class_Fairy</th>\n",
       "      <th>Class_Fighting</th>\n",
       "      <th>Class_Fire</th>\n",
       "      <th>Class_Flying</th>\n",
       "      <th>Class_Ghost</th>\n",
       "      <th>Class_Grass</th>\n",
       "      <th>...</th>\n",
       "      <th>Class_Psychic</th>\n",
       "      <th>Class_Rock</th>\n",
       "      <th>Class_Steel</th>\n",
       "      <th>Class_Water</th>\n",
       "      <th>HP</th>\n",
       "      <th>Attack</th>\n",
       "      <th>Defense</th>\n",
       "      <th>Sp. Atk</th>\n",
       "      <th>Sp. Def</th>\n",
       "      <th>Speed</th>\n",
       "    </tr>\n",
       "  </thead>\n",
       "  <tbody>\n",
       "    <tr>\n",
       "      <th>0</th>\n",
       "      <td>0</td>\n",
       "      <td>0</td>\n",
       "      <td>0</td>\n",
       "      <td>0</td>\n",
       "      <td>0</td>\n",
       "      <td>0</td>\n",
       "      <td>0</td>\n",
       "      <td>0</td>\n",
       "      <td>0</td>\n",
       "      <td>1</td>\n",
       "      <td>...</td>\n",
       "      <td>0</td>\n",
       "      <td>0</td>\n",
       "      <td>0</td>\n",
       "      <td>0</td>\n",
       "      <td>45</td>\n",
       "      <td>49</td>\n",
       "      <td>49</td>\n",
       "      <td>65</td>\n",
       "      <td>65</td>\n",
       "      <td>45</td>\n",
       "    </tr>\n",
       "    <tr>\n",
       "      <th>1</th>\n",
       "      <td>0</td>\n",
       "      <td>0</td>\n",
       "      <td>0</td>\n",
       "      <td>0</td>\n",
       "      <td>0</td>\n",
       "      <td>0</td>\n",
       "      <td>0</td>\n",
       "      <td>0</td>\n",
       "      <td>0</td>\n",
       "      <td>1</td>\n",
       "      <td>...</td>\n",
       "      <td>0</td>\n",
       "      <td>0</td>\n",
       "      <td>0</td>\n",
       "      <td>0</td>\n",
       "      <td>60</td>\n",
       "      <td>62</td>\n",
       "      <td>63</td>\n",
       "      <td>80</td>\n",
       "      <td>80</td>\n",
       "      <td>60</td>\n",
       "    </tr>\n",
       "    <tr>\n",
       "      <th>2</th>\n",
       "      <td>0</td>\n",
       "      <td>0</td>\n",
       "      <td>0</td>\n",
       "      <td>0</td>\n",
       "      <td>0</td>\n",
       "      <td>0</td>\n",
       "      <td>0</td>\n",
       "      <td>0</td>\n",
       "      <td>0</td>\n",
       "      <td>1</td>\n",
       "      <td>...</td>\n",
       "      <td>0</td>\n",
       "      <td>0</td>\n",
       "      <td>0</td>\n",
       "      <td>0</td>\n",
       "      <td>80</td>\n",
       "      <td>82</td>\n",
       "      <td>83</td>\n",
       "      <td>100</td>\n",
       "      <td>100</td>\n",
       "      <td>80</td>\n",
       "    </tr>\n",
       "    <tr>\n",
       "      <th>3</th>\n",
       "      <td>0</td>\n",
       "      <td>0</td>\n",
       "      <td>0</td>\n",
       "      <td>0</td>\n",
       "      <td>0</td>\n",
       "      <td>0</td>\n",
       "      <td>0</td>\n",
       "      <td>0</td>\n",
       "      <td>0</td>\n",
       "      <td>1</td>\n",
       "      <td>...</td>\n",
       "      <td>0</td>\n",
       "      <td>0</td>\n",
       "      <td>0</td>\n",
       "      <td>0</td>\n",
       "      <td>80</td>\n",
       "      <td>100</td>\n",
       "      <td>123</td>\n",
       "      <td>122</td>\n",
       "      <td>120</td>\n",
       "      <td>80</td>\n",
       "    </tr>\n",
       "    <tr>\n",
       "      <th>4</th>\n",
       "      <td>0</td>\n",
       "      <td>0</td>\n",
       "      <td>0</td>\n",
       "      <td>0</td>\n",
       "      <td>0</td>\n",
       "      <td>0</td>\n",
       "      <td>1</td>\n",
       "      <td>0</td>\n",
       "      <td>0</td>\n",
       "      <td>0</td>\n",
       "      <td>...</td>\n",
       "      <td>0</td>\n",
       "      <td>0</td>\n",
       "      <td>0</td>\n",
       "      <td>0</td>\n",
       "      <td>39</td>\n",
       "      <td>52</td>\n",
       "      <td>43</td>\n",
       "      <td>60</td>\n",
       "      <td>50</td>\n",
       "      <td>65</td>\n",
       "    </tr>\n",
       "  </tbody>\n",
       "</table>\n",
       "<p>5 rows × 24 columns</p>\n",
       "</div>"
      ],
      "text/plain": [
       "   Class_Bug  Class_Dark  Class_Dragon  Class_Electric  Class_Fairy  \\\n",
       "0          0           0             0               0            0   \n",
       "1          0           0             0               0            0   \n",
       "2          0           0             0               0            0   \n",
       "3          0           0             0               0            0   \n",
       "4          0           0             0               0            0   \n",
       "\n",
       "   Class_Fighting  Class_Fire  Class_Flying  Class_Ghost  Class_Grass  ...  \\\n",
       "0               0           0             0            0            1  ...   \n",
       "1               0           0             0            0            1  ...   \n",
       "2               0           0             0            0            1  ...   \n",
       "3               0           0             0            0            1  ...   \n",
       "4               0           1             0            0            0  ...   \n",
       "\n",
       "   Class_Psychic  Class_Rock  Class_Steel  Class_Water  HP  Attack  Defense  \\\n",
       "0              0           0            0            0  45      49       49   \n",
       "1              0           0            0            0  60      62       63   \n",
       "2              0           0            0            0  80      82       83   \n",
       "3              0           0            0            0  80     100      123   \n",
       "4              0           0            0            0  39      52       43   \n",
       "\n",
       "   Sp. Atk  Sp. Def  Speed  \n",
       "0       65       65     45  \n",
       "1       80       80     60  \n",
       "2      100      100     80  \n",
       "3      122      120     80  \n",
       "4       60       50     65  \n",
       "\n",
       "[5 rows x 24 columns]"
      ]
     },
     "execution_count": 13,
     "metadata": {},
     "output_type": "execute_result"
    }
   ],
   "source": [
    "# 2. I want to add the other stats, I do this by adding 'pokemon' and dropping all columns \n",
    "# that are either irrelevant or already implemented\n",
    "all_others = pokemon.drop(columns=['Class 1', 'Class 2', 'pid', 'Name', 'Legendary'])\n",
    "new = pd.concat([classes, all_others], axis=1)\n",
    "\n",
    "new.head()"
   ]
  },
  {
   "cell_type": "markdown",
   "metadata": {},
   "source": [
    "The dataframe 'new' is exactly what is needed:\n",
    "\n",
    "It is the pokemon dataframe without the irrelevant information and categorical features encoded"
   ]
  },
  {
   "cell_type": "code",
   "execution_count": 14,
   "metadata": {},
   "outputs": [],
   "source": [
    "# 3. Creating the training set\n",
    "\n",
    "X = []\n",
    "y = []\n",
    "\n",
    "#for k in range(10):\n",
    "for k in range(len(combat)):\n",
    "    vec = []\n",
    "    # now when creating the feature vector we want to enter the features that belong \n",
    "    # to the two pokemon in that entry in the combat list.\n",
    "    # the pids of those pokemon are:\n",
    "    pid_1 = combat['First_pokemon'][k]\n",
    "    pid_2 = combat['Second_pokemon'][k]\n",
    "    winner = combat['Winner'][k]\n",
    "    # now we need the index belonging to the pokemon with these pids\n",
    "    # the lazy way is to do this by noticing that: index = pid-1\n",
    "    id_1 = pid_1 - 1\n",
    "    id_2 = pid_2 - 1\n",
    "    \n",
    "    # now we can append all the relevant features to our feature vector:\n",
    "    # for the first Pokemon:\n",
    "    for col in new.columns:\n",
    "        vec.append(new[col][id_1])\n",
    "    # and for the second Pokemon:     \n",
    "    for col in new.columns:\n",
    "        vec.append(new[col][id_2])\n",
    "    # the order of features should be entirely irrelevant here, \n",
    "    # but it's a bit more understandable looping twice\n",
    "\n",
    "    # append the new feature vector to the training set\n",
    "    X.append(vec)\n",
    "\n",
    "    \n",
    "    # for the label:\n",
    "    if winner == pid_1:\n",
    "        y.append(0)\n",
    "    elif winner == pid_2:\n",
    "        y.append(1)\n",
    "    else:\n",
    "        print('Error.')\n",
    "        "
   ]
  },
  {
   "cell_type": "code",
   "execution_count": 15,
   "metadata": {},
   "outputs": [
    {
     "name": "stdout",
     "output_type": "stream",
     "text": [
      "[0, 0, 0, 0, 0, 0, 0, 0, 0, 0, 1, 0, 0, 0, 0, 1, 0, 0, 50, 64, 50, 45, 50, 41, 0, 1, 0, 0, 0, 0, 0, 0, 0, 1, 0, 0, 0, 0, 0, 0, 0, 0, 70, 70, 40, 60, 40, 60]\n",
      "\n",
      "1\n"
     ]
    }
   ],
   "source": [
    "n = 0\n",
    "print(X[n])\n",
    "print()\n",
    "print(y[n])"
   ]
  },
  {
   "cell_type": "code",
   "execution_count": 16,
   "metadata": {},
   "outputs": [
    {
     "data": {
      "text/plain": [
       "First_pokemon     266\n",
       "Second_pokemon    298\n",
       "Winner            298\n",
       "Name: 0, dtype: int64"
      ]
     },
     "execution_count": 16,
     "metadata": {},
     "output_type": "execute_result"
    }
   ],
   "source": [
    "# Just to test:\n",
    "# the first pairing was the following:\n",
    "combat.loc[0]"
   ]
  },
  {
   "cell_type": "code",
   "execution_count": 17,
   "metadata": {},
   "outputs": [
    {
     "data": {
      "text/plain": [
       "pid               266\n",
       "Name         Larvitar\n",
       "Class 1          Rock\n",
       "Class 2        Ground\n",
       "HP                 50\n",
       "Attack             64\n",
       "Defense            50\n",
       "Sp. Atk            45\n",
       "Sp. Def            50\n",
       "Speed              41\n",
       "Legendary       False\n",
       "Name: 265, dtype: object"
      ]
     },
     "execution_count": 17,
     "metadata": {},
     "output_type": "execute_result"
    }
   ],
   "source": [
    "# the pids correspond to the pokemon\n",
    "pokemon.loc[266 - 1]"
   ]
  },
  {
   "cell_type": "code",
   "execution_count": 18,
   "metadata": {},
   "outputs": [],
   "source": [
    "# and"
   ]
  },
  {
   "cell_type": "code",
   "execution_count": 19,
   "metadata": {},
   "outputs": [
    {
     "data": {
      "text/plain": [
       "pid              298\n",
       "Name         Nuzleaf\n",
       "Class 1        Grass\n",
       "Class 2         Dark\n",
       "HP                70\n",
       "Attack            70\n",
       "Defense           40\n",
       "Sp. Atk           60\n",
       "Sp. Def           40\n",
       "Speed             60\n",
       "Legendary      False\n",
       "Name: 297, dtype: object"
      ]
     },
     "execution_count": 19,
     "metadata": {},
     "output_type": "execute_result"
    }
   ],
   "source": [
    "pokemon.loc[298 - 1]"
   ]
  },
  {
   "cell_type": "code",
   "execution_count": 15,
   "metadata": {},
   "outputs": [],
   "source": [
    "# If we look into the valeus of X[0], we'll find the right stats, just the way we wanted to encode them!"
   ]
  },
  {
   "cell_type": "code",
   "execution_count": 16,
   "metadata": {},
   "outputs": [
    {
     "name": "stdout",
     "output_type": "stream",
     "text": [
      "We now have training data of the shapes X=(50000, 48) and y=(50000,)\n"
     ]
    }
   ],
   "source": [
    "X = np.array(X)\n",
    "y = np.array(y)\n",
    "\n",
    "print('We now have training data of the shapes X={:} and y={:}'.format(X.shape, y.shape))"
   ]
  },
  {
   "cell_type": "markdown",
   "metadata": {},
   "source": [
    "## Setting up a random forest model\n",
    "\n",
    "The task is to ***classify*** the Pokémon as to who the winner is based on the stats"
   ]
  },
  {
   "cell_type": "code",
   "execution_count": 23,
   "metadata": {},
   "outputs": [],
   "source": [
    "# Using Skicit-learn to split data into training and testing sets\n",
    "from sklearn.model_selection import train_test_split\n",
    "# Split the data into training and testing sets\n",
    "\n",
    "N = len(combat)\n",
    "split = int(0.9*N)\n",
    "\n",
    "X_train, X_test, y_train, y_test = train_test_split(X, y, train_size = split)\n",
    "\n",
    "X_train = np.array(X_train)\n",
    "X_test = np.array(X_test)\n",
    "\n",
    "y_train = np.array(y_train)\n",
    "y_test = np.array(y_test)"
   ]
  },
  {
   "cell_type": "code",
   "execution_count": 24,
   "metadata": {},
   "outputs": [
    {
     "name": "stdout",
     "output_type": "stream",
     "text": [
      "  Training Data Shape: (45000, 48)\n",
      "Training Labels Shape: (45000,)\n",
      "\n",
      "   Testing Data Shape: (5000, 48)\n",
      " Testing Labels Shape: (5000,)\n"
     ]
    }
   ],
   "source": [
    "print('  Training Data Shape:', X_train.shape)\n",
    "print('Training Labels Shape:', y_train.shape)\n",
    "print()\n",
    "print('   Testing Data Shape:', X_test.shape)\n",
    "print(' Testing Labels Shape:', y_test.shape)"
   ]
  },
  {
   "cell_type": "code",
   "execution_count": 26,
   "metadata": {},
   "outputs": [
    {
     "name": "stderr",
     "output_type": "stream",
     "text": [
      "[Parallel(n_jobs=1)]: Using backend SequentialBackend with 1 concurrent workers.\n",
      "[Parallel(n_jobs=1)]: Done  10 out of  10 | elapsed:    0.3s finished\n"
     ]
    }
   ],
   "source": [
    "# Import the model we are using\n",
    "from sklearn.ensemble import RandomForestClassifier\n",
    "\n",
    "model = RandomForestClassifier(n_estimators = 10, max_depth=10, random_state = 123, verbose=1)\n",
    "\n",
    "# Train the model on training data\n",
    "history = model.fit(X_train, y_train)"
   ]
  },
  {
   "cell_type": "code",
   "execution_count": 21,
   "metadata": {},
   "outputs": [
    {
     "name": "stdout",
     "output_type": "stream",
     "text": [
      "MAE: 0.10\n"
     ]
    },
    {
     "name": "stderr",
     "output_type": "stream",
     "text": [
      "[Parallel(n_jobs=1)]: Using backend SequentialBackend with 1 concurrent workers.\n",
      "[Parallel(n_jobs=1)]: Done  10 out of  10 | elapsed:    0.0s finished\n"
     ]
    }
   ],
   "source": [
    "# Use the forest's predict method on the test data\n",
    "predictions = model.predict(X_test)\n",
    "# print(predictions)\n",
    "# Calculate the absolute errors\n",
    "errors = abs(predictions - y_test)\n",
    "# Print out the mean absolute error (mae)\n",
    "print('MAE: {:.2f}'.format(np.mean(errors)))"
   ]
  },
  {
   "cell_type": "markdown",
   "metadata": {},
   "source": [
    "One could naively attempt to tweak the models hyperparameters for the Mean Absolute Error to be as small as possible.\n",
    "\n",
    "## But there a problem!\n",
    "\n",
    "The prupose of the testing set is to predict out-of-sample performance of the model. Our model might fit the training data perfectly and yet perform poorly on other data as the model has learned **idiosyncrasies specific to the training set (overfitting)** - the test sets purpose is to detect that and thus guaranteeing success on data that is unlabeled.\n",
    "\n",
    "By selectinghyper parameters based on test set performance, we hijack that mechanism by teaching the model something about the test set and thus **effectively integrating the test set into the training set**.\n",
    "\n",
    "If we want to select hyper parametes, there's a better way to do that:\n",
    "\n",
    "## Cross-validation\n",
    "\n",
    "Which leaves the test set untouched - as it should be - and instead searches for the best hyperparameter \"testing\" on a **validation set** instead (which is a part of the training set).\n",
    "\n",
    "The K-fold cross validation divides the training set into $K$ subsets and performs training ok $K-1$ of them and validates the model on the remaining subset.\n",
    "\n",
    "Scikit's GridSearchCV takes a dictionary of parameters, transforms them into a parameter grid and runs the model. Based on performance on the validation set it will find the best hyperparameter set.\n"
   ]
  },
  {
   "cell_type": "code",
   "execution_count": 27,
   "metadata": {},
   "outputs": [],
   "source": [
    "from sklearn.model_selection import GridSearchCV\n",
    "\n",
    "# Create the parameter grid\n",
    "param_grid = { 'max_depth': [2, 4, 6, 10, 20, 50],\n",
    "            'n_estimators': [10, 25, 50, 100, 200]\n",
    "}\n",
    "\n",
    "grid_search = GridSearchCV(estimator=model, param_grid=param_grid, scoring='accuracy', cv=5, n_jobs=-1)"
   ]
  },
  {
   "cell_type": "code",
   "execution_count": 28,
   "metadata": {},
   "outputs": [
    {
     "name": "stderr",
     "output_type": "stream",
     "text": [
      "[Parallel(n_jobs=1)]: Using backend SequentialBackend with 1 concurrent workers.\n"
     ]
    },
    {
     "name": "stdout",
     "output_type": "stream",
     "text": [
      "CPU times: user 8.73 s, sys: 274 ms, total: 9 s\n",
      "Wall time: 1min 32s\n"
     ]
    },
    {
     "name": "stderr",
     "output_type": "stream",
     "text": [
      "[Parallel(n_jobs=1)]: Done 200 out of 200 | elapsed:    8.3s finished\n"
     ]
    },
    {
     "data": {
      "text/plain": [
       "GridSearchCV(cv=5, error_score=nan,\n",
       "             estimator=RandomForestClassifier(bootstrap=True, ccp_alpha=0.0,\n",
       "                                              class_weight=None,\n",
       "                                              criterion='gini', max_depth=10,\n",
       "                                              max_features='auto',\n",
       "                                              max_leaf_nodes=None,\n",
       "                                              max_samples=None,\n",
       "                                              min_impurity_decrease=0.0,\n",
       "                                              min_impurity_split=None,\n",
       "                                              min_samples_leaf=1,\n",
       "                                              min_samples_split=2,\n",
       "                                              min_weight_fraction_leaf=0.0,\n",
       "                                              n_estimators=10, n_jobs=None,\n",
       "                                              oob_score=False, random_state=123,\n",
       "                                              verbose=1, warm_start=False),\n",
       "             iid='deprecated', n_jobs=-1,\n",
       "             param_grid={'max_depth': [2, 4, 6, 10, 20, 50],\n",
       "                         'n_estimators': [10, 25, 50, 100, 200]},\n",
       "             pre_dispatch='2*n_jobs', refit=True, return_train_score=False,\n",
       "             scoring='accuracy', verbose=0)"
      ]
     },
     "execution_count": 28,
     "metadata": {},
     "output_type": "execute_result"
    }
   ],
   "source": [
    "%%time \n",
    "grid_search.fit(X_train, y_train)"
   ]
  },
  {
   "cell_type": "code",
   "execution_count": 29,
   "metadata": {},
   "outputs": [
    {
     "name": "stdout",
     "output_type": "stream",
     "text": [
      "{'max_depth': 50, 'n_estimators': 200}\n"
     ]
    }
   ],
   "source": [
    "best_parameters = grid_search.best_params_\n",
    "print(best_parameters)"
   ]
  },
  {
   "cell_type": "markdown",
   "metadata": {},
   "source": [
    "We'll now train the model using exactly those parameters"
   ]
  },
  {
   "cell_type": "code",
   "execution_count": 30,
   "metadata": {},
   "outputs": [],
   "source": [
    "model = RandomForestClassifier(random_state = 123, **best_parameters)\n",
    "\n",
    "# Train the model on training data\n",
    "history = model.fit(X_train, y_train)"
   ]
  },
  {
   "cell_type": "markdown",
   "metadata": {},
   "source": [
    "And now we can test performance on the test set"
   ]
  },
  {
   "cell_type": "code",
   "execution_count": 31,
   "metadata": {},
   "outputs": [
    {
     "name": "stdout",
     "output_type": "stream",
     "text": [
      "MAE: 0.06\n"
     ]
    }
   ],
   "source": [
    "# Use the forest's predict method on the test data\n",
    "predictions = model.predict(X_test)\n",
    "# Calculate the absolute errors\n",
    "errors = abs(predictions - y_test)\n",
    "\n",
    "print('MAE: {:.2f}'.format(np.mean(errors)))"
   ]
  },
  {
   "cell_type": "markdown",
   "metadata": {},
   "source": [
    "## Importances"
   ]
  },
  {
   "cell_type": "markdown",
   "metadata": {},
   "source": [
    "The scikit documentation provides functionality for evaluating the features that are **most indicative** of being classified as a winner."
   ]
  },
  {
   "cell_type": "code",
   "execution_count": 40,
   "metadata": {},
   "outputs": [],
   "source": [
    "# But before that it is convenient to decode what the actual features are that correspond to their indeces\n",
    "\n",
    "# This will be done the exactly way the features were composed: (stats Pokemon 1, stats Pokemon 2)\n",
    "\n",
    "single_features = new.columns\n",
    "features = []\n",
    "\n",
    "for k in range(len(single_features)):\n",
    "    features.append(single_features[k] + ' (P1)')\n",
    "\n",
    "for k in range(len(single_features)):\n",
    "    features.append(single_features[k] + ' (P2)')\n",
    "\n",
    "# features go from 0 to 47 corresponding to the indices\n",
    "# those are made up by the data of two pokemon:\n",
    "# n = 0-23\n",
    "\n",
    "# each index \n",
    "# n = n+24 (but for Pokemon 2)"
   ]
  },
  {
   "cell_type": "code",
   "execution_count": 42,
   "metadata": {},
   "outputs": [
    {
     "data": {
      "image/png": "[encoded data removed]",
      "text/plain": [
       "<Figure size 576x288 with 1 Axes>"
      ]
     },
     "metadata": {},
     "output_type": "display_data"
    }
   ],
   "source": [
    "importances = model.feature_importances_\n",
    "indices = np.argsort(importances)[::-1]\n",
    "\n",
    "num = 10\n",
    "\n",
    "indices = indices[:num]\n",
    "\n",
    "labels = []\n",
    "for k in range(num):\n",
    "    labels.append(features[indices[k]])\n",
    "\n",
    "    \n",
    "    \n",
    "# Plot the impurity-based feature importances of the model\n",
    "plt.figure(figsize=(8,4))\n",
    "plt.title(\"Feature importances\")\n",
    "plt.bar(range(num), importances[indices], color='C0', align=\"center\")\n",
    "#plt.xticks(range(num), indices)\n",
    "plt.xticks(range(num), labels, rotation=45)\n",
    "plt.xlim([-1, num])\n",
    "plt.show()"
   ]
  },
  {
   "cell_type": "markdown",
   "metadata": {},
   "source": [
    "## Note: \n",
    "\n",
    "it is not very elegant to have two features here (i.e. Pokemon 1 and Pokemon 2). I assume the most elegant way would be to average over the two importances and use that number instead.\n",
    "\n",
    "I have done this here in a slightly bulky way:"
   ]
  },
  {
   "cell_type": "code",
   "execution_count": 44,
   "metadata": {},
   "outputs": [
    {
     "data": {
      "image/png": "[encoded data removed]",
      "text/plain": [
       "<Figure size 1080x432 with 1 Axes>"
      ]
     },
     "metadata": {},
     "output_type": "display_data"
    }
   ],
   "source": [
    "importances = model.feature_importances_\n",
    "std = np.std([tree.feature_importances_ for tree in model.estimators_],axis=0)\n",
    "indices = np.argsort(importances)[::-1]\n",
    "\n",
    "# we want to create a new set of importances\n",
    "# that contains the importances averaged\n",
    "\n",
    "importances_new = np.zeros(24)\n",
    "indices_new = []\n",
    "for k in range(len(indices)):\n",
    "    ind = indices[k]\n",
    "    if ind < 24:\n",
    "        indices_new.append(ind)\n",
    "        ind_2 = ind+24   # this is the brother index\n",
    "        imp_1 = importances[ind]\n",
    "        imp_2 = importances[ind_2]\n",
    "        avg = (imp_1 + imp_2)/2\n",
    "        importances_new[ind] = avg\n",
    "\n",
    "num = 10\n",
    "indices_new = np.array(indices_new)[:num]\n",
    "\n",
    "labels = []\n",
    "for k in range(num):\n",
    "    labels.append(features[indices_new[k]][:-5])\n",
    "    \n",
    "plt.figure(figsize=(15,6))\n",
    "plt.title(\"Feature importances\")\n",
    "plt.bar(range(num), importances_new[indices_new], color='C0', align=\"center\")\n",
    "plt.xticks(range(num), labels, rotation=45)\n",
    "plt.xlim([-1, num])\n",
    "plt.show()"
   ]
  },
  {
   "cell_type": "markdown",
   "metadata": {},
   "source": [
    "This is interesting, 'Speed' is by far the most important stat for a Pokemon to have! Generally an important consideration in Pokemon battles is a favourable pairing of Classes.\n",
    "\n",
    "The game is however structured that the Classes overall are of similar strength in the sense, \n",
    "that each class has a similar number of strengths and weaknesses.\n",
    "\n",
    "According to this analysis, the flying class is the best, the margin however is insignificant."
   ]
  },
  {
   "cell_type": "code",
   "execution_count": 46,
   "metadata": {},
   "outputs": [
    {
     "data": {
      "text/html": [
       "<div>\n",
       "<style scoped>\n",
       "    .dataframe tbody tr th:only-of-type {\n",
       "        vertical-align: middle;\n",
       "    }\n",
       "\n",
       "    .dataframe tbody tr th {\n",
       "        vertical-align: top;\n",
       "    }\n",
       "\n",
       "    .dataframe thead th {\n",
       "        text-align: right;\n",
       "    }\n",
       "</style>\n",
       "<table border=\"1\" class=\"dataframe\">\n",
       "  <thead>\n",
       "    <tr style=\"text-align: right;\">\n",
       "      <th></th>\n",
       "      <th>pid</th>\n",
       "      <th>Name</th>\n",
       "      <th>Class 1</th>\n",
       "      <th>Class 2</th>\n",
       "      <th>HP</th>\n",
       "      <th>Attack</th>\n",
       "      <th>Defense</th>\n",
       "      <th>Sp. Atk</th>\n",
       "      <th>Sp. Def</th>\n",
       "      <th>Speed</th>\n",
       "      <th>Legendary</th>\n",
       "    </tr>\n",
       "  </thead>\n",
       "  <tbody>\n",
       "    <tr>\n",
       "      <th>109</th>\n",
       "      <td>110</td>\n",
       "      <td>Electrode</td>\n",
       "      <td>Electric</td>\n",
       "      <td>NaN</td>\n",
       "      <td>60</td>\n",
       "      <td>50</td>\n",
       "      <td>70</td>\n",
       "      <td>80</td>\n",
       "      <td>80</td>\n",
       "      <td>140</td>\n",
       "      <td>False</td>\n",
       "    </tr>\n",
       "    <tr>\n",
       "      <th>146</th>\n",
       "      <td>147</td>\n",
       "      <td>Jolteon</td>\n",
       "      <td>Electric</td>\n",
       "      <td>NaN</td>\n",
       "      <td>65</td>\n",
       "      <td>65</td>\n",
       "      <td>60</td>\n",
       "      <td>110</td>\n",
       "      <td>95</td>\n",
       "      <td>130</td>\n",
       "      <td>False</td>\n",
       "    </tr>\n",
       "    <tr>\n",
       "      <th>153</th>\n",
       "      <td>154</td>\n",
       "      <td>Aerodactyl</td>\n",
       "      <td>Rock</td>\n",
       "      <td>Flying</td>\n",
       "      <td>80</td>\n",
       "      <td>105</td>\n",
       "      <td>65</td>\n",
       "      <td>60</td>\n",
       "      <td>75</td>\n",
       "      <td>130</td>\n",
       "      <td>False</td>\n",
       "    </tr>\n",
       "    <tr>\n",
       "      <th>162</th>\n",
       "      <td>163</td>\n",
       "      <td>Mewtwo</td>\n",
       "      <td>Psychic</td>\n",
       "      <td>NaN</td>\n",
       "      <td>106</td>\n",
       "      <td>110</td>\n",
       "      <td>90</td>\n",
       "      <td>154</td>\n",
       "      <td>90</td>\n",
       "      <td>130</td>\n",
       "      <td>True</td>\n",
       "    </tr>\n",
       "    <tr>\n",
       "      <th>56</th>\n",
       "      <td>57</td>\n",
       "      <td>Dugtrio</td>\n",
       "      <td>Ground</td>\n",
       "      <td>NaN</td>\n",
       "      <td>35</td>\n",
       "      <td>80</td>\n",
       "      <td>50</td>\n",
       "      <td>50</td>\n",
       "      <td>70</td>\n",
       "      <td>120</td>\n",
       "      <td>False</td>\n",
       "    </tr>\n",
       "    <tr>\n",
       "      <th>70</th>\n",
       "      <td>71</td>\n",
       "      <td>Alakazam</td>\n",
       "      <td>Psychic</td>\n",
       "      <td>NaN</td>\n",
       "      <td>55</td>\n",
       "      <td>50</td>\n",
       "      <td>45</td>\n",
       "      <td>135</td>\n",
       "      <td>95</td>\n",
       "      <td>120</td>\n",
       "      <td>False</td>\n",
       "    </tr>\n",
       "    <tr>\n",
       "      <th>58</th>\n",
       "      <td>59</td>\n",
       "      <td>Persian</td>\n",
       "      <td>Normal</td>\n",
       "      <td>NaN</td>\n",
       "      <td>65</td>\n",
       "      <td>70</td>\n",
       "      <td>60</td>\n",
       "      <td>65</td>\n",
       "      <td>65</td>\n",
       "      <td>115</td>\n",
       "      <td>False</td>\n",
       "    </tr>\n",
       "    <tr>\n",
       "      <th>130</th>\n",
       "      <td>131</td>\n",
       "      <td>Starmie</td>\n",
       "      <td>Water</td>\n",
       "      <td>Psychic</td>\n",
       "      <td>60</td>\n",
       "      <td>75</td>\n",
       "      <td>85</td>\n",
       "      <td>100</td>\n",
       "      <td>85</td>\n",
       "      <td>115</td>\n",
       "      <td>False</td>\n",
       "    </tr>\n",
       "    <tr>\n",
       "      <th>31</th>\n",
       "      <td>32</td>\n",
       "      <td>Raichu</td>\n",
       "      <td>Electric</td>\n",
       "      <td>NaN</td>\n",
       "      <td>60</td>\n",
       "      <td>90</td>\n",
       "      <td>55</td>\n",
       "      <td>90</td>\n",
       "      <td>80</td>\n",
       "      <td>110</td>\n",
       "      <td>False</td>\n",
       "    </tr>\n",
       "    <tr>\n",
       "      <th>101</th>\n",
       "      <td>102</td>\n",
       "      <td>Gengar</td>\n",
       "      <td>Ghost</td>\n",
       "      <td>Poison</td>\n",
       "      <td>60</td>\n",
       "      <td>65</td>\n",
       "      <td>60</td>\n",
       "      <td>130</td>\n",
       "      <td>75</td>\n",
       "      <td>110</td>\n",
       "      <td>False</td>\n",
       "    </tr>\n",
       "    <tr>\n",
       "      <th>138</th>\n",
       "      <td>139</td>\n",
       "      <td>Tauros</td>\n",
       "      <td>Normal</td>\n",
       "      <td>NaN</td>\n",
       "      <td>75</td>\n",
       "      <td>100</td>\n",
       "      <td>95</td>\n",
       "      <td>40</td>\n",
       "      <td>70</td>\n",
       "      <td>110</td>\n",
       "      <td>False</td>\n",
       "    </tr>\n",
       "  </tbody>\n",
       "</table>\n",
       "</div>"
      ],
      "text/plain": [
       "     pid        Name   Class 1  Class 2   HP  Attack  Defense  Sp. Atk  \\\n",
       "109  110   Electrode  Electric      NaN   60      50       70       80   \n",
       "146  147     Jolteon  Electric      NaN   65      65       60      110   \n",
       "153  154  Aerodactyl      Rock   Flying   80     105       65       60   \n",
       "162  163      Mewtwo   Psychic      NaN  106     110       90      154   \n",
       "56    57     Dugtrio    Ground      NaN   35      80       50       50   \n",
       "70    71    Alakazam   Psychic      NaN   55      50       45      135   \n",
       "58    59     Persian    Normal      NaN   65      70       60       65   \n",
       "130  131     Starmie     Water  Psychic   60      75       85      100   \n",
       "31    32      Raichu  Electric      NaN   60      90       55       90   \n",
       "101  102      Gengar     Ghost   Poison   60      65       60      130   \n",
       "138  139      Tauros    Normal      NaN   75     100       95       40   \n",
       "\n",
       "     Sp. Def  Speed  Legendary  \n",
       "109       80    140      False  \n",
       "146       95    130      False  \n",
       "153       75    130      False  \n",
       "162       90    130       True  \n",
       "56        70    120      False  \n",
       "70        95    120      False  \n",
       "58        65    115      False  \n",
       "130       85    115      False  \n",
       "31        80    110      False  \n",
       "101       75    110      False  \n",
       "138       70    110      False  "
      ]
     },
     "execution_count": 46,
     "metadata": {},
     "output_type": "execute_result"
    }
   ],
   "source": [
    "# Just out of curiosity: what are the best Pokemon in Generation I?\n",
    "# those are incidentally the first 166 in the dataset\n",
    "temp = pokemon[:166]\n",
    "\n",
    "# and I'll remove the 'Mega' Pokemon\n",
    "index = temp['Name'].str.startswith('Mega', na = False) # 'True' if names start with 'Mega'\n",
    "index = [not k for k in index] # flipping the values\n",
    "temp = temp[index]\n",
    "\n",
    "temp = temp.nlargest(n=10, columns='Speed', keep='all')\n",
    "\n",
    "temp"
   ]
  }
 ],
 "metadata": {
  "kernelspec": {
   "display_name": "Python [conda env:py37] *",
   "language": "python",
   "name": "conda-env-py37-py"
  },
  "language_info": {
   "codemirror_mode": {
    "name": "ipython",
    "version": 3
   },
   "file_extension": ".py",
   "mimetype": "text/x-python",
   "name": "python",
   "nbconvert_exporter": "python",
   "pygments_lexer": "ipython3",
   "version": "3.7.6"
  }
 },
 "nbformat": 4,
 "nbformat_minor": 2
}
